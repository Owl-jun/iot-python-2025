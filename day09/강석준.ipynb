{
 "cells": [
  {
   "cell_type": "markdown",
   "metadata": {},
   "source": [
    "# 1"
   ]
  },
  {
   "cell_type": "code",
   "execution_count": 3,
   "metadata": {},
   "outputs": [],
   "source": [
    "import math\n",
    "getS = lambda r : math.pi * (r ** 2)\n",
    "# print(getS(3))"
   ]
  },
  {
   "cell_type": "markdown",
   "metadata": {},
   "source": [
    "# 2"
   ]
  },
  {
   "cell_type": "code",
   "execution_count": null,
   "metadata": {},
   "outputs": [
    {
     "name": "stdout",
     "output_type": "stream",
     "text": [
      "www.naver.com\n"
     ]
    }
   ],
   "source": [
    "get_url = lambda input : f'www.{input}.com'\n",
    "# i = input('검색할 영문 입력 : ')\n",
    "# print(get_url(i))"
   ]
  },
  {
   "cell_type": "markdown",
   "metadata": {},
   "source": [
    "# 3"
   ]
  },
  {
   "cell_type": "code",
   "execution_count": null,
   "metadata": {},
   "outputs": [
    {
     "name": "stdout",
     "output_type": "stream",
     "text": [
      "7 -->  7 14 21 28 35 42 49 56 63 "
     ]
    }
   ],
   "source": [
    "def gugudan(num):\n",
    "    result = [i*num for i in range(1,10)]\n",
    "    print(f'{num} --> ', end = ' ')\n",
    "    for r in result: print(r, end= ' ')\n",
    "# gugudan(7)"
   ]
  },
  {
   "cell_type": "markdown",
   "metadata": {},
   "source": [
    "# 4"
   ]
  },
  {
   "cell_type": "code",
   "execution_count": null,
   "metadata": {},
   "outputs": [
    {
     "name": "stdout",
     "output_type": "stream",
     "text": [
      "9 6 3 "
     ]
    }
   ],
   "source": [
    "def my_reverse(lst = list):\n",
    "    _begin , _end = 0 , -1\n",
    "    for i in range(len(lst)//2):\n",
    "        lst[_begin] , lst[_end] = lst[_end] , lst[_begin]\n",
    "        _begin += 1 ; _end -= 1\n",
    "    for i in lst : print(i, end= ' ')\n",
    "\n",
    "# my_reverse([3,6,9])"
   ]
  },
  {
   "cell_type": "markdown",
   "metadata": {},
   "source": [
    "# 5"
   ]
  },
  {
   "cell_type": "code",
   "execution_count": null,
   "metadata": {},
   "outputs": [
    {
     "name": "stdout",
     "output_type": "stream",
     "text": [
      "전화 거는중 ... Kim : 010-4885-4885\n",
      "연결중입니다 -\n"
     ]
    }
   ],
   "source": [
    "class SmartPhone():\n",
    "    def __init__(self,owner,number='',company=''):\n",
    "        self.owner = owner\n",
    "        self.number = number\n",
    "        self.company = company\n",
    "    \n",
    "    def call(self,smartphone):\n",
    "        if smartphone.number != '':\n",
    "            print(f'전화 거는중 ... {smartphone.owner} : {smartphone.number}')\n",
    "            print('연결중입니다 -')\n",
    "        else:\n",
    "            print('지금 거신 번호는 없는 번호 입니다이;')\n",
    "\n",
    "# galaxy = SmartPhone('Kang','010-9501-1650','samsung')\n",
    "# iphone = SmartPhone('Kim','010-4885-4885','Apple')\n",
    "# galaxy.call(iphone)"
   ]
  }
 ],
 "metadata": {
  "kernelspec": {
   "display_name": "3.11.9",
   "language": "python",
   "name": "python3"
  },
  "language_info": {
   "codemirror_mode": {
    "name": "ipython",
    "version": 3
   },
   "file_extension": ".py",
   "mimetype": "text/x-python",
   "name": "python",
   "nbconvert_exporter": "python",
   "pygments_lexer": "ipython3",
   "version": "3.11.9"
  }
 },
 "nbformat": 4,
 "nbformat_minor": 2
}
